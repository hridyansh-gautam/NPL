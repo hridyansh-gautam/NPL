{
 "cells": [
  {
   "cell_type": "code",
   "execution_count": 5,
   "id": "3b4edea6-67d2-4156-b9b4-3d1a9756e773",
   "metadata": {},
   "outputs": [],
   "source": [
    "import pandas as pd\n",
    "df=pd.read_excel(\"form1.xlsx\",\"Sheet1\")\n",
    "df1=pd.DataFrame(data=df)\n",
    "df1_t = df1.T\n",
    "df1_t.to_excel('Form_transpose.xlsx',header=1)"
   ]
  }
 ],
 "metadata": {
  "kernelspec": {
   "display_name": "Python 3 (ipykernel)",
   "language": "python",
   "name": "python3"
  },
  "language_info": {
   "codemirror_mode": {
    "name": "ipython",
    "version": 3
   },
   "file_extension": ".py",
   "mimetype": "text/x-python",
   "name": "python",
   "nbconvert_exporter": "python",
   "pygments_lexer": "ipython3",
   "version": "3.11.7"
  }
 },
 "nbformat": 4,
 "nbformat_minor": 5
}
