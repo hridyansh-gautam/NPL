{
 "cells": [
  {
   "cell_type": "code",
   "execution_count": null,
   "id": "aa3a49af-5be9-4391-b077-806faacf2616",
   "metadata": {},
   "outputs": [],
   "source": [
    "# improvements today:\n",
    "# add borders on table\n",
    "# set floating point precision\n",
    "# added caption to table\n",
    "# table in landscape mode\n"
   ]
  },
  {
   "cell_type": "code",
   "execution_count": null,
   "id": "fe4febdd-3f34-46da-a804-b8c538336291",
   "metadata": {},
   "outputs": [],
   "source": [
    "# questions:\n",
    "# alignment and precision for values in table\n",
    "# table view L-to-R or R-to-L\n",
    "# text template for table caption\n",
    "# "
   ]
  },
  {
   "cell_type": "code",
   "execution_count": 1,
   "id": "da7e6952-6de8-484a-a719-d90cab3865ae",
   "metadata": {},
   "outputs": [],
   "source": [
    "import pandas as pd"
   ]
  },
  {
   "cell_type": "code",
   "execution_count": 4,
   "id": "81d5c8c9-220e-4fa9-bf99-603926bfb1a5",
   "metadata": {},
   "outputs": [],
   "source": [
    "def excel_to_latex(excel_path, latex_path):\n",
    "    with pd.ExcelFile(\"page2/user doc.xlsx\") as xls:  \n",
    "        sheets = xls.sheet_names\n",
    "        tables = []\n",
    "        for i, sheet in enumerate(sheets):\n",
    "            df = pd.read_excel(xls, f'{sheet}')  \n",
    "    \n",
    "            col_count = len(df.columns)\n",
    "            col_size = 16 / col_count\n",
    "            col_format = ''.join([f'|p{{{col_size} cm}}' for _ in range(col_count)])\n",
    "            tex = df.to_latex(\n",
    "                multicolumn=True, \n",
    "                header=True, \n",
    "                index=False, \n",
    "                column_format=col_format + '|', \n",
    "                float_format=\"%.3f\", \n",
    "                caption=f\"This is Table {i + 1}\"\n",
    "            )\n",
    "            tables.append(tex)\n",
    "            \n",
    "        with open(latex_path, 'w', encoding='utf-8') as file:\n",
    "            for i, table in enumerate(tables):\n",
    "                file.write(table)\n",
    "                file.write('\\\\vspace{5mm}\\n')\n",
    "                print(f\"table{i} stored in {latex_path}\")\n"
   ]
  },
  {
   "cell_type": "code",
   "execution_count": 5,
   "id": "9f9d3373-cb19-47a1-a5c1-463f48cc1cf4",
   "metadata": {},
   "outputs": [
    {
     "name": "stdout",
     "output_type": "stream",
     "text": [
      "table0 stored in page2/tables.tex\n",
      "table1 stored in page2/tables.tex\n",
      "table2 stored in page2/tables.tex\n",
      "table3 stored in page2/tables.tex\n"
     ]
    }
   ],
   "source": [
    "excel_path = 'page2/user doc.xlsx'\n",
    "latex_path = 'page2/tables.tex'\n",
    "excel_to_latex(excel_path, latex_path)"
   ]
  },
  {
   "cell_type": "markdown",
   "id": "4664cf84-c95f-4c30-a353-ae5771002998",
   "metadata": {},
   "source": [
    "Excel to JSON"
   ]
  },
  {
   "cell_type": "code",
   "execution_count": null,
   "id": "4b6ecab9-e87a-4753-9755-c90edc032aeb",
   "metadata": {},
   "outputs": [],
   "source": [
    "from json import dumps\n",
    "def excel_to_json(path):\n",
    "    df = pd.read_excel(path)\n",
    "    flattened_data = df.to_dict(orient='records')\n",
    "    df_json = dumps(flattened_data, indent=4)  \n",
    "    return (df_json)\n",
    "    \n",
    "excel_path = 'form1.xlsx'\n",
    "json_form = excel_to_json(excel_path)\n",
    "\n",
    "with open('page1/json_data.json', 'w') as file:\n",
    "    file.write(json_form)"
   ]
  },
  {
   "cell_type": "markdown",
   "id": "e508396d-af22-4430-a505-ce6d0218f521",
   "metadata": {},
   "source": [
    "JSON to Latex"
   ]
  },
  {
   "cell_type": "code",
   "execution_count": 46,
   "id": "16a6eda4-b641-4061-b929-5dd8e29ddb44",
   "metadata": {},
   "outputs": [
    {
     "name": "stdout",
     "output_type": "stream",
     "text": [
      "{'certificateNo': '1', 'date': '0001-01-01', 'recommendedDate': '0001-01-01', 'calibratedFor': '1', 'description': '1', 'environmentalConditions': '1', 'standardsUsed': '1', 'traceability': '1', 'calibrationProcedure': '1'}\n"
     ]
    }
   ],
   "source": [
    "from json import load\n",
    "with open('page1/json_data.json', 'r') as file:\n",
    "    form_data = load(file)['body']\n",
    "print(form_data)"
   ]
  },
  {
   "cell_type": "code",
   "execution_count": 47,
   "id": "ca517957-68d2-4ef3-b061-85c7581c6697",
   "metadata": {},
   "outputs": [
    {
     "name": "stdout",
     "output_type": "stream",
     "text": [
      "values written in tex files successfully\n"
     ]
    }
   ],
   "source": [
    "def json_to_latex(data):\n",
    "    for key, val in data.items():\n",
    "        with open(f'page1/{key}.tex', 'w', encoding='utf-8') as file:\n",
    "            file.write(val.replace('\\n', ' \\\\\\\\\\n'))\n",
    "            file.write(' \\\\\\\\\\n')\n",
    "\n",
    "json_to_latex(form_data)\n",
    "print('values written in tex files successfully')"
   ]
  },
  {
   "cell_type": "markdown",
   "id": "acedcab9-985d-41cb-adf1-d8e55ff22388",
   "metadata": {},
   "source": [
    "Define page settings\n",
    "set page width\n",
    "Landscape mode\n"
   ]
  },
  {
   "cell_type": "code",
   "execution_count": 36,
   "id": "09582b07-5208-4bbb-96b6-eb0ffa852994",
   "metadata": {},
   "outputs": [
    {
     "name": "stdout",
     "output_type": "stream",
     "text": [
      "\\begin{table}\n",
      "\\caption{This is Table 1}\n",
      "\\begin{tabular}{|p{2.29 cm}|p{2.29 cm}|p{2.29 cm}|p{2.29 cm}|p{2.29 cm}|p{2.29 cm}|p{2.29 cm}|}\n",
      "\\toprule\n",
      "Sr. No. & Energy applied (J) to UUC & Calculated (J) level & Measured Energy (J) level of UUC & Energy correction (J) (Ecalculated-Emeasured) & Uncertainty (J) & Coverage Factor (k) \\\\\n",
      "\\midrule\n",
      "1 & 10 & 9.500 & 9.600 & (-) 0.1 & ± 0.1 & 2.000 \\\\\n",
      "2 & 20 & 19.300 & 19.400 & (-) 0.1 & ± 0.1 & 2.000 \\\\\n",
      "3 & 50 & 48.200 & 48.400 & (-) 0.2 & ± 0.2 & 2.000 \\\\\n",
      "4 & 100 & 97.100 & 97.400 & (-) 0.3 & ± 0.3 & 2.000 \\\\\n",
      "5 & 150 & 146.100 & 146.400 & (-) 0.3 & ± 0.5 & 2.000 \\\\\n",
      "6 & 270 & 259.500 & 260.300 & (-) 0.8 & ± 0.9 & 2.000 \\\\\n",
      "NaN & NaN & NaN & NaN & NaN & NaN & NaN \\\\\n",
      "Sr. No. & Discharge Time & Calculated Discharge Time (ms) & Measured Discharge Time (ms) & Uncertainty (J) & Coverage Factor (k) & NaN \\\\\n",
      "1 & Discharge Time (Positive Pulse Width) & 6.600 & 6.400 & ± 0.1 & 2.170 & NaN \\\\\n",
      "2 & Discharge Time (Negative Pulse Wdith) & 4.400 & 4.500 & ± 0.1 & 2 & NaN \\\\\n",
      "NaN & NaN & NaN & NaN & NaN & NaN & NaN \\\\\n",
      "NaN & NaN & NaN & NaN & NaN & NaN & NaN \\\\\n",
      "Sr. No. & Discharge Time & Calculated Discharge Time (ms) & Measured Discharge Time (ms) & Uncertainty (J) & Coverage Factor (k) & NaN \\\\\n",
      "1 & Discharge Time (Positive Pulse Width) & 6.600 & 6.400 & ± 0.1 & 2.170 & NaN \\\\\n",
      "2 & Discharge Time (Negative Pulse Wdith) & 4.400 & 4.500 & ± 0.1 & 2 & NaN \\\\\n",
      "\\bottomrule\n",
      "\\end{tabular}\n",
      "\\end{table}\n",
      "\n",
      "\\begin{table}\n",
      "\\caption{This is Table 2}\n",
      "\\begin{tabular}{|p{2.67 cm}|p{2.67 cm}|p{2.67 cm}|p{2.67 cm}|p{2.67 cm}|p{2.67 cm}|}\n",
      "\\toprule\n",
      "Sr. No. & Discharge Time & Calculated Discharge Time (ms) & Measured Discharge Time (ms) & Uncertainty (J) & Coverage Factor (k) \\\\\n",
      "\\midrule\n",
      "1 & Discharge Time (Positive Pulse Width) & 6.600 & 6.400 & ± 0.1 & 2.170 \\\\\n",
      "2 & Discharge Time (Negative Pulse Wdith) & 4.400 & 4.500 & ± 0.1 & 2.000 \\\\\n",
      "\\bottomrule\n",
      "\\end{tabular}\n",
      "\\end{table}\n",
      "\n",
      "\\begin{table}\n",
      "\\caption{This is Table 3}\n",
      "\\begin{tabular}{|p{2.67 cm}|p{2.67 cm}|p{2.67 cm}|p{2.67 cm}|p{2.67 cm}|p{2.67 cm}|}\n",
      "\\toprule\n",
      "Sr. No. & Defribillator Analyser Load Resistance (Ω) & Expected Value (Ω) & Measured Value (Ω) & Uncertainty (Ω) & Coverage Factor (k) \\\\\n",
      "\\midrule\n",
      "1 & 50 & 50 & 50.018 &  ± 0.00041 & 2.050 \\\\\n",
      "\\bottomrule\n",
      "\\end{tabular}\n",
      "\\end{table}\n",
      "\n",
      "\\begin{table}\n",
      "\\caption{This is Table 4}\n",
      "\\begin{tabular}{|p{2.67 cm}|p{2.67 cm}|p{2.67 cm}|p{2.67 cm}|p{2.67 cm}|p{2.67 cm}|}\n",
      "\\toprule\n",
      "Sr. No. & Defribillator Analyser Load Resistance (Ω) & Expected Value (Ω) & Measured Value (Ω) & Uncertainty (Ω) & Coverage Factor (k) \\\\\n",
      "\\midrule\n",
      "1 & 50 & 50 & 51.013 &  ± 0.0005 & 2.110 \\\\\n",
      "\\bottomrule\n",
      "\\end{tabular}\n",
      "\\end{table}\n",
      "\n",
      "table0 stored in page2/tables.tex\n",
      "table1 stored in page2/tables.tex\n",
      "table2 stored in page2/tables.tex\n",
      "table3 stored in page2/tables.tex\n"
     ]
    }
   ],
   "source": [
    "def excel_to_latex(excel_path, latex_path):\n",
    "    with pd.ExcelFile(\"page2/user doc.xlsx\") as xls:  \n",
    "        sheets = xls.sheet_names\n",
    "        tables = []\n",
    "        for i, sheet in enumerate(sheets):\n",
    "            df = pd.read_excel(xls, f'{sheet}')  \n",
    "    \n",
    "            col_count = len(df.columns)\n",
    "            col_size = 16 / col_count\n",
    "            col_format = ''.join([f'|p{{{col_size:.2f} cm}}' for _ in range(col_count)])\n",
    "            tex = df.to_latex(\n",
    "                multicolumn=True, \n",
    "                header=True, \n",
    "                index=False, \n",
    "                column_format=col_format + '|', \n",
    "                float_format=\"%.3f\", \n",
    "                caption=f\"This is Table {i + 1}\"\n",
    "            )\n",
    "            tables.append(tex)\n",
    "\n",
    "        for t in tables:\n",
    "            print(t)\n",
    "        with open(latex_path, 'w', encoding='utf-8') as file:\n",
    "            for i, table in enumerate(tables):\n",
    "                file.write(table)\n",
    "                file.write('\\\\vspace{5mm}\\n')\n",
    "                print(f\"table{i} stored in {latex_path}\")\n",
    "excel_path = 'page2/user doc.xlsx'\n",
    "latex_path = 'page2/tables.tex'\n",
    "excel_to_latex(excel_path, latex_path)"
   ]
  },
  {
   "cell_type": "code",
   "execution_count": 65,
   "id": "b210ebd2-9863-44cf-95fc-74f39e591eee",
   "metadata": {},
   "outputs": [
    {
     "name": "stdout",
     "output_type": "stream",
     "text": [
      "table0 stored in page2/tables.tex\n",
      "table1 stored in page2/tables.tex\n",
      "table2 stored in page2/tables.tex\n",
      "table3 stored in page2/tables.tex\n",
      "table4 stored in page2/tables.tex\n",
      "table5 stored in page2/tables.tex\n"
     ]
    }
   ],
   "source": [
    "def excel_to_latex(excel_path, latex_path):\n",
    "    with pd.ExcelFile(\"page2/user doc.xlsx\") as xls:  \n",
    "        sheets = xls.sheet_names\n",
    "        tables = []\n",
    "        for sheet in sheets:\n",
    "            df = pd.read_excel(xls, f'{sheet}')  \n",
    "    \n",
    "            col_count = len(df.columns)\n",
    "            col_size = 16 / col_count\n",
    "            col_format = ''.join([f'|p{{{col_size:.2f} cm}}' for _ in range(col_count)])\n",
    "            table = []\n",
    "            for i, row in df.iterrows():\n",
    "                if row.isnull().all():\n",
    "                    if table:\n",
    "                        # tables.append((sheet_name, pd.DataFrame(table)))\n",
    "                        tex = pd.DataFrame(table).to_latex(\n",
    "                            multicolumn=True, \n",
    "                            header=True, \n",
    "                            index=False, \n",
    "                            column_format=col_format + '|', \n",
    "                            float_format=\"%.3f\", \n",
    "                            caption=f\"This is Table {len(tables) + 1}\"\n",
    "                        )\n",
    "                        tables.append(tex)\n",
    "                        table = []\n",
    "                else:\n",
    "                    table.append(row)\n",
    "            \n",
    "            if table:\n",
    "                # tables.append((sheet_name, pd.DataFrame(table)))\n",
    "                tex = pd.DataFrame(table).to_latex(\n",
    "                    multicolumn=True, \n",
    "                    header=True, \n",
    "                    index=False, \n",
    "                    column_format=col_format + '|', \n",
    "                    float_format=\"%.3f\", \n",
    "                    caption=f\"This is Table {len(tables) + 1}\"\n",
    "                )\n",
    "                tables.append(tex)\n",
    "\n",
    "        # for t in tables:\n",
    "        #     print(t)\n",
    "        with open(latex_path, 'w', encoding='utf-8') as file:\n",
    "            for i, table in enumerate(tables):\n",
    "                file.write(table)\n",
    "                file.write('\\\\vspace{5mm}\\n')\n",
    "                print(f\"table{i} stored in {latex_path}\")\n",
    "excel_path = 'page2/user doc.xlsx'\n",
    "latex_path = 'page2/tables.tex'\n",
    "excel_to_latex(excel_path, latex_path)"
   ]
  },
  {
   "cell_type": "code",
   "execution_count": null,
   "id": "438ec707-cbb8-4f54-9d58-24d4562082ca",
   "metadata": {},
   "outputs": [],
   "source": []
  }
 ],
 "metadata": {
  "kernelspec": {
   "display_name": "Python 3 (ipykernel)",
   "language": "python",
   "name": "python3"
  },
  "language_info": {
   "codemirror_mode": {
    "name": "ipython",
    "version": 3
   },
   "file_extension": ".py",
   "mimetype": "text/x-python",
   "name": "python",
   "nbconvert_exporter": "python",
   "pygments_lexer": "ipython3",
   "version": "3.11.7"
  }
 },
 "nbformat": 4,
 "nbformat_minor": 5
}
