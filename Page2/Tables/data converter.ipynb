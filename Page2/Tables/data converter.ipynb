{
 "cells": [
  {
   "cell_type": "code",
   "execution_count": null,
   "id": "aa3a49af-5be9-4391-b077-806faacf2616",
   "metadata": {},
   "outputs": [],
   "source": [
    "# improvements yesterday:\n",
    "# add borders on table\n",
    "# set floating point precision\n",
    "# added caption to table\n",
    "# table in landscape mode\n"
   ]
  },
  {
   "cell_type": "code",
   "execution_count": null,
   "id": "1d887820-efb9-4e3e-a743-1821ec8c46f0",
   "metadata": {},
   "outputs": [],
   "source": [
    "# improvements today:\n",
    "# extract multiple tables from a sheet \n",
    "#"
   ]
  },
  {
   "cell_type": "code",
   "execution_count": null,
   "id": "fe4febdd-3f34-46da-a804-b8c538336291",
   "metadata": {},
   "outputs": [],
   "source": [
    "# questions yesterday:\n",
    "# alignment and precision for values in table\n",
    "# table view L-to-R or R-to-L\n",
    "# text template for table caption\n",
    "\n",
    "# questions today:\n",
    "# "
   ]
  },
  {
   "cell_type": "code",
   "execution_count": 2,
   "id": "da7e6952-6de8-484a-a719-d90cab3865ae",
   "metadata": {},
   "outputs": [],
   "source": [
    "import pandas as pd"
   ]
  },
  {
   "cell_type": "code",
   "execution_count": 4,
   "id": "81d5c8c9-220e-4fa9-bf99-603926bfb1a5",
   "metadata": {},
   "outputs": [],
   "source": [
    "# single table per sheet to latex \n",
    "def excel_to_latex(excel_path, latex_path):\n",
    "    with pd.ExcelFile(\"page2/user doc.xlsx\") as xls:  \n",
    "        sheets = xls.sheet_names\n",
    "        tables = []\n",
    "        for i, sheet in enumerate(sheets):\n",
    "            df = pd.read_excel(xls, f'{sheet}')  \n",
    "    \n",
    "            col_count = len(df.columns)\n",
    "            col_size = 16 / col_count\n",
    "            col_format = ''.join([f'|p{{{col_size} cm}}' for _ in range(col_count)])\n",
    "            tex = df.to_latex(\n",
    "                multicolumn=True, \n",
    "                header=True, \n",
    "                index=False, \n",
    "                column_format=col_format + '|', \n",
    "                float_format=\"%.3f\", \n",
    "                caption=f\"This is Table {i + 1}\"\n",
    "            )\n",
    "            tables.append(tex)\n",
    "            \n",
    "        with open(latex_path, 'w', encoding='utf-8') as file:\n",
    "            for i, table in enumerate(tables):\n",
    "                file.write(table)\n",
    "                file.write('\\\\vspace{5mm}\\n')\n",
    "                print(f\"table{i} stored in {latex_path}\")\n"
   ]
  },
  {
   "cell_type": "code",
   "execution_count": 5,
   "id": "9f9d3373-cb19-47a1-a5c1-463f48cc1cf4",
   "metadata": {},
   "outputs": [
    {
     "name": "stdout",
     "output_type": "stream",
     "text": [
      "table0 stored in page2/tables.tex\n",
      "table1 stored in page2/tables.tex\n",
      "table2 stored in page2/tables.tex\n",
      "table3 stored in page2/tables.tex\n"
     ]
    }
   ],
   "source": [
    "excel_path = 'page2/user doc.xlsx'\n",
    "latex_path = 'page2/tables.tex'\n",
    "excel_to_latex(excel_path, latex_path)"
   ]
  },
  {
   "cell_type": "code",
   "execution_count": 139,
   "id": "4b6ecab9-e87a-4753-9755-c90edc032aeb",
   "metadata": {},
   "outputs": [
    {
     "name": "stdout",
     "output_type": "stream",
     "text": [
      "values written in tex files successfully\n"
     ]
    }
   ],
   "source": [
    "#Excel to JSON to latex\n",
    "from json import dumps, loads\n",
    "#Excel to JSON\n",
    "def excel_to_json(path):\n",
    "    df = pd.read_excel(path)\n",
    "    flattened_data = df.to_dict(orient='records')\n",
    "    df_json = dumps(flattened_data, indent=4)  \n",
    "    return (df_json)\n",
    "\n",
    "#JSON to Latex\n",
    "def json_to_latex(data):\n",
    "    for key, val in data[0].items():\n",
    "        with open(f'page1/{key}.tex', 'w', encoding='utf-8') as file:\n",
    "            file.write(val.replace('\\n', ' \\\\\\\\\\n'))\n",
    "excel_path = 'page1/form1.xlsx'\n",
    "json_form = excel_to_json(excel_path)\n",
    "\n",
    "with open('page1/json_data.json', 'w') as file:\n",
    "    file.write(json_form)\n",
    "\n",
    "json_form = loads(json_form)\n",
    "# print(type(json_form))\n",
    "json_to_latex(json_form)\n",
    "print('values written in tex files successfully')"
   ]
  },
  {
   "cell_type": "code",
   "execution_count": 123,
   "id": "ca517957-68d2-4ef3-b061-85c7581c6697",
   "metadata": {},
   "outputs": [
    {
     "ename": "TypeError",
     "evalue": "list indices must be integers or slices, not str",
     "output_type": "error",
     "traceback": [
      "\u001b[1;31m---------------------------------------------------------------------------\u001b[0m",
      "\u001b[1;31mTypeError\u001b[0m                                 Traceback (most recent call last)",
      "Cell \u001b[1;32mIn[123], line 11\u001b[0m\n\u001b[0;32m      8\u001b[0m             file\u001b[38;5;241m.\u001b[39mwrite(\u001b[38;5;124m'\u001b[39m\u001b[38;5;124m \u001b[39m\u001b[38;5;130;01m\\\\\u001b[39;00m\u001b[38;5;130;01m\\\\\u001b[39;00m\u001b[38;5;130;01m\\n\u001b[39;00m\u001b[38;5;124m'\u001b[39m)\n\u001b[0;32m     10\u001b[0m \u001b[38;5;28;01mwith\u001b[39;00m \u001b[38;5;28mopen\u001b[39m(\u001b[38;5;124m'\u001b[39m\u001b[38;5;124mpage1/json_data.json\u001b[39m\u001b[38;5;124m'\u001b[39m, \u001b[38;5;124m'\u001b[39m\u001b[38;5;124mr\u001b[39m\u001b[38;5;124m'\u001b[39m) \u001b[38;5;28;01mas\u001b[39;00m file:\n\u001b[1;32m---> 11\u001b[0m     form_data \u001b[38;5;241m=\u001b[39m load(file)[\u001b[38;5;124m'\u001b[39m\u001b[38;5;124mbody\u001b[39m\u001b[38;5;124m'\u001b[39m]\n\u001b[0;32m     13\u001b[0m json_to_latex(form_data)\n\u001b[0;32m     14\u001b[0m \u001b[38;5;28mprint\u001b[39m(\u001b[38;5;124m'\u001b[39m\u001b[38;5;124mvalues written in tex files successfully\u001b[39m\u001b[38;5;124m'\u001b[39m)\n",
      "\u001b[1;31mTypeError\u001b[0m: list indices must be integers or slices, not str"
     ]
    }
   ],
   "source": [
    "#JSON to Latex\n",
    "from json import load\n",
    "\n",
    "def json_to_latex(data):\n",
    "    for key, val in data.items():\n",
    "        with open(f'page1/{key}.tex', 'w', encoding='utf-8') as file:\n",
    "            file.write(val.replace('\\n', ' \\\\\\\\\\n'))\n",
    "            file.write(' \\\\\\\\\\n')\n",
    "\n",
    "with open('page1/json_data.json', 'r') as file:\n",
    "    form_data = load(file)['body']\n",
    "    \n",
    "json_to_latex(form_data)\n",
    "print('values written in tex files successfully')"
   ]
  },
  {
   "cell_type": "code",
   "execution_count": null,
   "id": "db74d476-73ab-42dd-b1ae-0c486763ee6c",
   "metadata": {},
   "outputs": [],
   "source": [
    "##TODO: set page width \n"
   ]
  },
  {
   "cell_type": "code",
   "execution_count": 72,
   "id": "483b07b8-ec9d-4174-8244-eecd20047157",
   "metadata": {},
   "outputs": [
    {
     "name": "stdout",
     "output_type": "stream",
     "text": [
      "Table 1 stored in temp/tables.tex\n",
      "Table 2 stored in temp/tables.tex\n",
      "Table 3 stored in temp/tables.tex\n",
      "Table 4 stored in temp/tables.tex\n",
      "Table 5 stored in temp/tables.tex\n",
      "Table 6 stored in temp/tables.tex\n"
     ]
    }
   ],
   "source": [
    "# multiple tables in a sheet\n",
    "import pandas as pd\n",
    "\n",
    "def extract_tables_from_excel(excel_file):\n",
    "    xls = pd.ExcelFile(excel_file)\n",
    "    \n",
    "    tables = []\n",
    "    \n",
    "    for sheet_name in xls.sheet_names:\n",
    "        df = pd.read_excel(xls, sheet_name=sheet_name, header=None)\n",
    "        table = []\n",
    "        header = None\n",
    "        \n",
    "        for i, row in df.iterrows():\n",
    "            if row.isnull().all():\n",
    "                if table:\n",
    "                    if header is not None:\n",
    "                        table_df = pd.DataFrame(table, columns=header)\n",
    "                        tables.append(table_df.dropna(axis=1, how='all'))\n",
    "                    table = []\n",
    "                    header = None \n",
    "            else:\n",
    "                if header is None:\n",
    "                    header = row.tolist() \n",
    "                else:\n",
    "                    table.append(row.tolist())\n",
    "        \n",
    "        if table:\n",
    "            if header is None:\n",
    "                header = table.pop(0).tolist() \n",
    "            table_df = pd.DataFrame(table, columns=header)\n",
    "            tables.append(table_df.dropna(axis=1, how='all'))\n",
    "    \n",
    "    return tables\n",
    "\n",
    "def tables_to_latex(tables, latex_path):\n",
    "    with open(latex_path, 'w', encoding='utf-8') as file:\n",
    "        for i, table in enumerate(tables):\n",
    "            col_count = len(table.columns)\n",
    "            col_size = 20 / col_count\n",
    "            col_format = ''.join([f'|p{{{col_size:.2f} cm}}' for _ in range(col_count)])\n",
    "            tex = table.to_latex(\n",
    "                multicolumn=True, \n",
    "                header=True, \n",
    "                index=False, \n",
    "                column_format=col_format + '|', \n",
    "                float_format=\"%.3f\", \n",
    "                caption=f\"This is Table {i + 1}\"\n",
    "            )\n",
    "            file.write(tex)\n",
    "            file.write('\\\\vspace{5mm}\\n')\n",
    "            print(f\"Table {i + 1} stored in {latex_path}\")\n",
    "\n",
    "\n",
    "excel_path = 'temp/user doc.xlsx'\n",
    "latex_path = 'temp/tables.tex'\n",
    "tabs = extract_tables_from_excel(excel_path)\n",
    "tables_to_latex(tabs, latex_path)"
   ]
  },
  {
   "cell_type": "code",
   "execution_count": 101,
   "id": "23c715fd-6374-4adb-8dfb-6c78a370b13c",
   "metadata": {},
   "outputs": [
    {
     "name": "stdout",
     "output_type": "stream",
     "text": [
      "Table 1 stored in temp/tables.tex\n",
      "Table 2 stored in temp/tables.tex\n",
      "Table 3 stored in temp/tables.tex\n",
      "Table 4 stored in temp/tables.tex\n",
      "Table 5 stored in temp/tables.tex\n",
      "Table 6 stored in temp/tables.tex\n"
     ]
    }
   ],
   "source": [
    "# multiple tables in a sheet -- v3\n",
    "import pandas as pd\n",
    "import os\n",
    "\n",
    "def extract_tables_from_excel(excel_file):\n",
    "    xls = pd.ExcelFile(excel_file)\n",
    "    \n",
    "    tables = []\n",
    "    \n",
    "    for sheet_name in xls.sheet_names:\n",
    "        df = pd.read_excel(xls, sheet_name=sheet_name, header=None)\n",
    "        table = []\n",
    "        header = None\n",
    "        \n",
    "        for i, row in df.iterrows():\n",
    "            if row.isnull().all():\n",
    "                if table:\n",
    "                    if header is not None:\n",
    "                        table_df = pd.DataFrame(table, columns=header)\n",
    "                        tables.append(table_df.dropna(axis=1, how='all'))\n",
    "                    table = []\n",
    "                    header = None \n",
    "            else:\n",
    "                if header is None:\n",
    "                    header = row.tolist() \n",
    "                else:\n",
    "                    table.append(row.tolist())\n",
    "        \n",
    "        if table:\n",
    "            if header is None:\n",
    "                header = table.pop(0).tolist() \n",
    "            table_df = pd.DataFrame(table, columns=header)\n",
    "            tables.append(table_df.dropna(axis=1, how='all'))\n",
    "    \n",
    "    return tables\n",
    "\n",
    "def tables_to_latex(tables, latex_path):\n",
    "    with open(latex_path, 'w', encoding='utf-8') as file:\n",
    "        for i, table in enumerate(tables):\n",
    "            col_count = len(table.columns)\n",
    "            col_size = 20 / col_count\n",
    "            col_format = ''.join([f'|p{{{col_size:.2f} cm}}' for _ in range(col_count)])\n",
    "            tex = table.to_latex(\n",
    "                multicolumn=True, \n",
    "                # header=True, \n",
    "                index=False, \n",
    "                column_format=col_format + '|', \n",
    "                # float_format=\"%.3f\", \n",
    "                caption=f\"This is Table {i + 1}\"\n",
    "            )\n",
    "            tex = tex.replace('\\\\\\n', '\\\\ \\\\hline\\n')\n",
    "            file.write(tex)\n",
    "            # file.write('\\\\vspace{5mm}\\n')\n",
    "            print(f\"Table {i + 1} stored in {latex_path}\")\n",
    "\n",
    "\n",
    "excel_path = 'temp/user doc.xlsx'\n",
    "latex_path = 'temp/tables.tex'\n",
    "tabs = extract_tables_from_excel(excel_path)\n",
    "ts = tables_to_latex(tabs, latex_path)\n",
    "# print(len(tabs))\n",
    "# for t in tabs:\n",
    "#     print(t)\n",
    "#     print('-----------------------------------------')"
   ]
  },
  {
   "cell_type": "code",
   "execution_count": 100,
   "id": "b6652f91-c316-4946-9571-014ecb23b0e3",
   "metadata": {},
   "outputs": [
    {
     "name": "stdout",
     "output_type": "stream",
     "text": [
      "Table 1 stored in temp/tables.tex\n",
      "Table 2 stored in temp/tables.tex\n",
      "Table 3 stored in temp/tables.tex\n",
      "Table 4 stored in temp/tables.tex\n",
      "Table 5 stored in temp/tables.tex\n",
      "Table 6 stored in temp/tables.tex\n"
     ]
    }
   ],
   "source": [
    "# multiple tables in a sheet -- v2\n",
    "import pandas as pd\n",
    "import os\n",
    "\n",
    "def extract_tables_from_excel(excel_file):\n",
    "    xls = pd.ExcelFile(excel_file)\n",
    "    \n",
    "    tables = []\n",
    "    \n",
    "    for sheet_name in xls.sheet_names:\n",
    "        df = pd.read_excel(xls, sheet_name=sheet_name, header=None)\n",
    "        table = []\n",
    "        header = None\n",
    "        \n",
    "        for i, row in df.iterrows():\n",
    "            if row.isnull().all():\n",
    "                if table:\n",
    "                    if header is not None:\n",
    "                        table_df = pd.DataFrame(table, columns=header)\n",
    "                        tables.append(table_df.dropna(axis=1, how='all'))\n",
    "                    table = []\n",
    "                    header = None \n",
    "            else:\n",
    "                if header is None:\n",
    "                    header = row.tolist() \n",
    "                else:\n",
    "                    table.append(row.tolist())\n",
    "        \n",
    "        if table:\n",
    "            if header is None:\n",
    "                header = table.pop(0).tolist() \n",
    "            table_df = pd.DataFrame(table, columns=header)\n",
    "            tables.append(table_df.dropna(axis=1, how='all'))\n",
    "    \n",
    "    return tables\n",
    "\n",
    "def tables_to_latex(tables, latex_path):\n",
    "    with open(latex_path, 'w', encoding='utf-8') as file:\n",
    "        for i, table in enumerate(tables):\n",
    "            table = table.style.set_table_styles([\n",
    "                {'selector': 'toprule', 'props': ':hline;'},\n",
    "                {'selector': 'midrule', 'props': ':hline;'},\n",
    "                {'selector': 'bottomrule', 'props': ':hline;'},\n",
    "            ], overwrite=False)\n",
    "            col_count = len(table.columns)\n",
    "            col_size = 20 / col_count\n",
    "            col_format = ''.join([f'|p{{{col_size:.2f} cm}}' for _ in range(col_count)])\n",
    "            tex = table.to_latex(\n",
    "                # multicolumn=True, \n",
    "                # header=True, \n",
    "                # index=False,\n",
    "                hrules=True,\n",
    "                column_format=col_format + '|', \n",
    "                # float_format=\"%.3f\", \n",
    "                caption=f\"This is Table {i + 1}\"\n",
    "            )\n",
    "            # tex = tex.replace('\\\\\\n', '\\\\ \\\\hline\\n')\n",
    "            file.write(tex)\n",
    "            # file.write('\\\\vspace{5mm}\\n')\n",
    "            print(f\"Table {i + 1} stored in {latex_path}\")\n",
    "\n",
    "\n",
    "excel_path = 'temp/user doc.xlsx'\n",
    "latex_path = 'temp/tables.tex'\n",
    "tabs = extract_tables_from_excel(excel_path)\n",
    "ts = tables_to_latex(tabs, latex_path)\n",
    "# print(len(tabs))\n",
    "# for t in tabs:\n",
    "#     print(t)\n",
    "#     print('-----------------------------------------')\n"
   ]
  },
  {
   "cell_type": "code",
   "execution_count": null,
   "id": "5ce2702e-5730-418b-954a-0aa7696432e2",
   "metadata": {},
   "outputs": [],
   "source": [
    "print(df.style.set_table_styles([\n",
    "    {'selector': 'toprule', 'props': ':hline;'},\n",
    "    {'selector': 'midrule', 'props': ':hline;'},\n",
    "    {'selector': 'bottomrule', 'props': ':hline;'},\n",
    "], overwrite=False).to_latex(clines=\"all;data\",  column_format=\"|l|l|\"))\n"
   ]
  }
 ],
 "metadata": {
  "kernelspec": {
   "display_name": "Python 3 (ipykernel)",
   "language": "python",
   "name": "python3"
  },
  "language_info": {
   "codemirror_mode": {
    "name": "ipython",
    "version": 3
   },
   "file_extension": ".py",
   "mimetype": "text/x-python",
   "name": "python",
   "nbconvert_exporter": "python",
   "pygments_lexer": "ipython3",
   "version": "3.11.7"
  }
 },
 "nbformat": 4,
 "nbformat_minor": 5
}
