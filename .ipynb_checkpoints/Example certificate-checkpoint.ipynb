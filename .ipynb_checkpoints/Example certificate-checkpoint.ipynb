{
 "cells": [
  {
   "cell_type": "code",
   "execution_count": 3,
   "id": "32be5b1e-94f9-4147-ab84-f4ce928426df",
   "metadata": {},
   "outputs": [],
   "source": [
    "import pandas as pd\n",
    "\n",
    "# Replace 'your_table.xlsx' with your actual filename\n",
    "data = pd.read_excel('results_table1.xlsx')\n",
    "\n",
    "# Generate LaTeX table code\n",
    "latex_code = data.to_latex(index=data[0])\n",
    "\n",
    "# Save the LaTeX code to a file (optional)\n",
    "with open('table.tex', 'w') as f:\n",
    "    f.write(latex_code)"
   ]
  }
 ],
 "metadata": {
  "kernelspec": {
   "display_name": "Python 3 (ipykernel)",
   "language": "python",
   "name": "python3"
  },
  "language_info": {
   "codemirror_mode": {
    "name": "ipython",
    "version": 3
   },
   "file_extension": ".py",
   "mimetype": "text/x-python",
   "name": "python",
   "nbconvert_exporter": "python",
   "pygments_lexer": "ipython3",
   "version": "3.11.7"
  }
 },
 "nbformat": 4,
 "nbformat_minor": 5
}
