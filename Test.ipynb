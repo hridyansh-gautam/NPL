{
 "cells": [
  {
   "cell_type": "code",
   "execution_count": 2,
   "id": "33300f8a-b32d-43a0-b46e-f97a7dec3cc1",
   "metadata": {},
   "outputs": [
    {
     "name": "stdout",
     "output_type": "stream",
     "text": [
      "\n",
      "Sorry, but latexmk did not succeed for the following reason:\n",
      "\n",
      "  MiKTeX could not find the script engine 'perl' which is required to execute 'latexmk'.\n",
      "\n",
      "Remedy:\n",
      "\n",
      "  Make sure 'perl' is installed on your system.\n",
      "\n",
      "The log file hopefully contains the information to get MiKTeX going again:\n",
      "\n",
      "  C:\\Users\\HRIDYANSH GAUTAM\\AppData\\Local\\MiKTeX\\miktex\\log\\latexmk.log\n",
      "\n",
      "For more information, visit: https://miktex.org/kb/fix-script-engine-not-found\n",
      "\n"
     ]
    },
    {
     "ename": "CalledProcessError",
     "evalue": "Command '['latexmk', '--pdf', '--interaction=nonstopmode', 'C:\\\\Users\\\\HRIDYANSH GAUTAM\\\\Desktop\\\\NPL repo\\\\your_document.tex']' returned non-zero exit status 1.",
     "output_type": "error",
     "traceback": [
      "\u001b[1;31m---------------------------------------------------------------------------\u001b[0m",
      "\u001b[1;31mCalledProcessError\u001b[0m                        Traceback (most recent call last)",
      "Cell \u001b[1;32mIn[2], line 42\u001b[0m\n\u001b[0;32m     40\u001b[0m doc\u001b[38;5;241m.\u001b[39mappend(NoEscape(\u001b[38;5;124mr\u001b[39m\u001b[38;5;124m'\u001b[39m\u001b[38;5;124m\\\u001b[39m\u001b[38;5;124mmaketitle\u001b[39m\u001b[38;5;124m'\u001b[39m))\n\u001b[0;32m     41\u001b[0m doc\u001b[38;5;241m.\u001b[39mappend(ans)\n\u001b[1;32m---> 42\u001b[0m doc\u001b[38;5;241m.\u001b[39mgenerate_pdf(\u001b[38;5;124m'\u001b[39m\u001b[38;5;124myour_document\u001b[39m\u001b[38;5;124m'\u001b[39m, clean_tex\u001b[38;5;241m=\u001b[39m\u001b[38;5;28;01mFalse\u001b[39;00m)\n\u001b[0;32m     43\u001b[0m \u001b[38;5;28mprint\u001b[39m(\u001b[38;5;124m\"\u001b[39m\u001b[38;5;124mLaTeX document created and PDF generated.\u001b[39m\u001b[38;5;124m\"\u001b[39m)\n",
      "File \u001b[1;32m~\\anaconda3\\Lib\\site-packages\\pylatex\\document.py:276\u001b[0m, in \u001b[0;36mDocument.generate_pdf\u001b[1;34m(self, filepath, clean, clean_tex, compiler, compiler_args, silent)\u001b[0m\n\u001b[0;32m    273\u001b[0m command \u001b[38;5;241m=\u001b[39m [compiler] \u001b[38;5;241m+\u001b[39m arguments \u001b[38;5;241m+\u001b[39m compiler_args \u001b[38;5;241m+\u001b[39m main_arguments\n\u001b[0;32m    275\u001b[0m \u001b[38;5;28;01mtry\u001b[39;00m:\n\u001b[1;32m--> 276\u001b[0m     output \u001b[38;5;241m=\u001b[39m subprocess\u001b[38;5;241m.\u001b[39mcheck_output(\n\u001b[0;32m    277\u001b[0m         command, stderr\u001b[38;5;241m=\u001b[39msubprocess\u001b[38;5;241m.\u001b[39mSTDOUT, \u001b[38;5;241m*\u001b[39m\u001b[38;5;241m*\u001b[39mcheck_output_kwargs\n\u001b[0;32m    278\u001b[0m     )\n\u001b[0;32m    279\u001b[0m \u001b[38;5;28;01mexcept\u001b[39;00m (\u001b[38;5;167;01mOSError\u001b[39;00m, \u001b[38;5;167;01mIOError\u001b[39;00m) \u001b[38;5;28;01mas\u001b[39;00m e:\n\u001b[0;32m    280\u001b[0m     \u001b[38;5;66;03m# Use FileNotFoundError when python 2 is dropped\u001b[39;00m\n\u001b[0;32m    281\u001b[0m     os_error \u001b[38;5;241m=\u001b[39m e\n",
      "File \u001b[1;32m~\\anaconda3\\Lib\\subprocess.py:466\u001b[0m, in \u001b[0;36mcheck_output\u001b[1;34m(timeout, *popenargs, **kwargs)\u001b[0m\n\u001b[0;32m    463\u001b[0m         empty \u001b[38;5;241m=\u001b[39m \u001b[38;5;124mb\u001b[39m\u001b[38;5;124m'\u001b[39m\u001b[38;5;124m'\u001b[39m\n\u001b[0;32m    464\u001b[0m     kwargs[\u001b[38;5;124m'\u001b[39m\u001b[38;5;124minput\u001b[39m\u001b[38;5;124m'\u001b[39m] \u001b[38;5;241m=\u001b[39m empty\n\u001b[1;32m--> 466\u001b[0m \u001b[38;5;28;01mreturn\u001b[39;00m run(\u001b[38;5;241m*\u001b[39mpopenargs, stdout\u001b[38;5;241m=\u001b[39mPIPE, timeout\u001b[38;5;241m=\u001b[39mtimeout, check\u001b[38;5;241m=\u001b[39m\u001b[38;5;28;01mTrue\u001b[39;00m,\n\u001b[0;32m    467\u001b[0m            \u001b[38;5;241m*\u001b[39m\u001b[38;5;241m*\u001b[39mkwargs)\u001b[38;5;241m.\u001b[39mstdout\n",
      "File \u001b[1;32m~\\anaconda3\\Lib\\subprocess.py:571\u001b[0m, in \u001b[0;36mrun\u001b[1;34m(input, capture_output, timeout, check, *popenargs, **kwargs)\u001b[0m\n\u001b[0;32m    569\u001b[0m     retcode \u001b[38;5;241m=\u001b[39m process\u001b[38;5;241m.\u001b[39mpoll()\n\u001b[0;32m    570\u001b[0m     \u001b[38;5;28;01mif\u001b[39;00m check \u001b[38;5;129;01mand\u001b[39;00m retcode:\n\u001b[1;32m--> 571\u001b[0m         \u001b[38;5;28;01mraise\u001b[39;00m CalledProcessError(retcode, process\u001b[38;5;241m.\u001b[39margs,\n\u001b[0;32m    572\u001b[0m                                  output\u001b[38;5;241m=\u001b[39mstdout, stderr\u001b[38;5;241m=\u001b[39mstderr)\n\u001b[0;32m    573\u001b[0m \u001b[38;5;28;01mreturn\u001b[39;00m CompletedProcess(process\u001b[38;5;241m.\u001b[39margs, retcode, stdout, stderr)\n",
      "\u001b[1;31mCalledProcessError\u001b[0m: Command '['latexmk', '--pdf', '--interaction=nonstopmode', 'C:\\\\Users\\\\HRIDYANSH GAUTAM\\\\Desktop\\\\NPL repo\\\\your_document.tex']' returned non-zero exit status 1."
     ]
    }
   ],
   "source": [
    "from pylatex import Document, Section, Subsection, Command\n",
    "from pylatex.utils import italic, NoEscape\n",
    "def data_preprocess(data):\n",
    "    for key, val in data.items():\n",
    "        val = val.replace('%', '\\\\%').replace('#', '\\\\#').replace('^', '\\\\^')\n",
    "        val = val.replace('\\u2103', '\\\\textdegree C').replace('\\u03a9', '\\\\textohm').replace('\\u00b1', '\\\\textpm')\n",
    "        val = val.replace('\\n', ' \\\\\\\\\\n')\n",
    "        val= val. replace(f'{val}')\n",
    "        data[key] = val\n",
    "    return data\n",
    "\n",
    "data = {\n",
    "        \"certificateno\": \"N23070405/D3.03/C-037\",\n",
    "        \"devicename\": \"Defibrillator Analyser\",\n",
    "        \"enddate\": \"12.07.2023\",\n",
    "        \"nextdate\": \"12.07.2024\",\n",
    "        \"calibratedfor\": \"Biomedical Metrology Section National Physical Laboratory, New Delhi, 110012\\nCustomer Ref. No. Nil\\nDate: 10-07-2023\",\n",
    "        \"description\": \"Defibrillator Analyser\\nModel No.: 7000DP, Sr. No.: 3819017\\nMake: Fluke Biomedical\",\n",
    "        \"envconditions\": \"Temperature: (25 ± 2) ℃\\nRelative Humidity: (50 ± 10)%\",\n",
    "        \"stdsused\": \"1. Digital Storage Oscilloscope (Model No.: TBS 2072; Sr. No.: C020293; Make: Tektronix); \\n(-182.8 to -582.4) mV ±1.5 mV (k=2.32) ; \\n(215.8 to 2207) mV ± (1.5 to 2.0) mV (k=2.02 to 2.32); \\nTime (sec): (19.994 ±1 * 10^-3) μs (k=2)\\n\\n2. High Voltage Divider (Model No.: VD 15-8.3-A-LB-AL;\\nSr. No.: 170313, Make: Ross Engg. Corp.),\\n(1000:1) 0.9975 ± 0.1% (k=2.1)\\n\\n3. Digital Multimeter (Model No. 8846A; Sr.No.: 3641001; Make: Fluke);\\n(19.0009 ± 0.0003) Ω (k=2)\\n\\n4. Defibrillator (Model No.: TEC5621; S. No.: 01273;\\nMake: Nihon Kohden);\\n(9.5 ± 0.1) J (k=2.16)\\n(19.3 ± 0.1) J (k=2.00)\\n(48.2 ± 0.2) J (k=2.13)\\n(97.1± 0.3) J (k=2.00)\\n(146.1 ± 0.5) J (k=2.06)\\n(259.5± 0.8) J (k=2.05)\",\n",
    "        \"tracability\": \"The standards used for calibration are traceable to National Standards, which realize the units of quantities according to the International System of Units (SI)\",\n",
    "        \"procedure\": \"Calibration procedure as specified in Sub-Div # 3.03/ Doc3/CP #2\",\n",
    "        \"calibratedby\": \"VINOD KUMAR TANWAR\",\n",
    "        \"checkedby\": \"VED VARUN AGRAWAL\",\n",
    "        \"incharge\": \"Dr. RAJESH\",\n",
    "        \"issuedby\": \"Null\",\n",
    "        \"resulttable\": \"\",\n",
    "        \"resultdesc\": \"The expanded uncertainty in wavelength measurement at NPL. is ±0.5 mm. \\n The reported uncertainty is at Coverage factor 1-2, which corresponds to a coverage probability of approximately 95% for a normal distribution.\",\n",
    "        \"calibrationdate\": \"12.07.2023\",\n",
    "        \"remarks\": \") The measured values of peak wavelength are representation of the nearest reference Standard spectral lines as shown by the Spectrometer at the interval of each 0.1 mm.\\n(ii) NPL identification No. of the Spectrometer for wavelength measurement is 402/OPT/202\"\n",
    "    }\n",
    "\n",
    "ans = data_preprocess(data=data)\n",
    "doc = Document()\n",
    "\n",
    "# Add a title\n",
    "doc.preamble.append(Command('title', 'Your Document Title'))\n",
    "doc.preamble.append(Command('author', 'Your Name'))\n",
    "doc.preamble.append(Command('date', NoEscape(r'\\today')))\n",
    "doc.append(NoEscape(r'\\maketitle'))\n",
    "doc.append(ans)\n",
    "doc.generate_pdf('your_document', clean_tex=False)\n",
    "print(\"LaTeX document created and PDF generated.\")\n"
   ]
  },
  {
   "cell_type": "code",
   "execution_count": null,
   "id": "0e5b0f61-089b-44a2-aa72-d77f113a7a81",
   "metadata": {},
   "outputs": [],
   "source": []
  }
 ],
 "metadata": {
  "kernelspec": {
   "display_name": "Python 3 (ipykernel)",
   "language": "python",
   "name": "python3"
  },
  "language_info": {
   "codemirror_mode": {
    "name": "ipython",
    "version": 3
   },
   "file_extension": ".py",
   "mimetype": "text/x-python",
   "name": "python",
   "nbconvert_exporter": "python",
   "pygments_lexer": "ipython3",
   "version": "3.11.7"
  }
 },
 "nbformat": 4,
 "nbformat_minor": 5
}
