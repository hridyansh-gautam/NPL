{
 "cells": [
  {
   "cell_type": "code",
   "execution_count": 6,
   "id": "32be5b1e-94f9-4147-ab84-f4ce928426df",
   "metadata": {},
   "outputs": [],
   "source": [
    "import pandas as pd\n",
    "\n",
    "# Replace 'your_table.xlsx' with your actual filename\n",
    "table1 = pd.read_excel('Table1.xlsx',\"Sheet1\", index_col=0)\n",
    "\n",
    "# Generate LaTeX table code\n",
    "latex_code = table1.to_latex(index=True)\n",
    "\n",
    "# Save the LaTeX code to a file (optional)\n",
    "with open('table1.tex', 'w') as f:\n",
    "    f.write(latex_code)\n",
    "\n",
    "#############################################\n",
    "\n",
    "table2 = pd.read_excel('Table2.xlsx',\"Sheet1\", index_col=0)\n",
    "\n",
    "# Generate LaTeX table code\n",
    "latex_code = table2.to_latex(index=True)\n",
    "\n",
    "# Save the LaTeX code to a file (optional)\n",
    "with open('table2.tex', 'w') as f:\n",
    "    f.write(latex_code)\n",
    "\n",
    "#################################################\n",
    "\n",
    "table3 = pd.read_excel('Table3.xlsx',\"Sheet1\", index_col=0)\n",
    "\n",
    "# Generate LaTeX table code\n",
    "latex_code = table3.to_latex(index=True)\n",
    "\n",
    "# Save the LaTeX code to a file (optional)\n",
    "with open('table3.tex', 'w') as f:\n",
    "    f.write(latex_code)\n",
    "\n",
    "######################################################\n",
    "\n",
    "table4 = pd.read_excel('Table4.xlsx',\"Sheet1\", index_col=0)\n",
    "\n",
    "# Generate LaTeX table code\n",
    "latex_code = table4.to_latex(index=True)\n",
    "\n",
    "# Save the LaTeX code to a file (optional)\n",
    "with open('table4.tex', 'w') as f:\n",
    "    f.write(latex_code)"
   ]
  },
  {
   "cell_type": "code",
   "execution_count": null,
   "id": "67afb320-83bc-465b-aad1-05138cfd9bdc",
   "metadata": {},
   "outputs": [],
   "source": []
  }
 ],
 "metadata": {
  "kernelspec": {
   "display_name": "Python 3 (ipykernel)",
   "language": "python",
   "name": "python3"
  },
  "language_info": {
   "codemirror_mode": {
    "name": "ipython",
    "version": 3
   },
   "file_extension": ".py",
   "mimetype": "text/x-python",
   "name": "python",
   "nbconvert_exporter": "python",
   "pygments_lexer": "ipython3",
   "version": "3.11.7"
  }
 },
 "nbformat": 4,
 "nbformat_minor": 5
}
