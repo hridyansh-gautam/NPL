{
 "cells": [
  {
   "cell_type": "code",
   "execution_count": 1,
   "id": "da7e6952-6de8-484a-a719-d90cab3865ae",
   "metadata": {},
   "outputs": [],
   "source": [
    "import pandas as pd\n"
   ]
  },
  {
   "cell_type": "code",
   "execution_count": 139,
   "id": "b4683300-63e6-47fc-91b9-2af3bb7548a5",
   "metadata": {},
   "outputs": [
    {
     "name": "stdout",
     "output_type": "stream",
     "text": [
      "LaTeX code saved to Tables/table1.tex\n"
     ]
    }
   ],
   "source": [
    "def excel_to_latex(excel_path, latex_path):\n",
    "    df = pd.read_excel(excel_path)\n",
    "\n",
    "    latex_code = df.to_latex(multicolumn=True, header=True, index=False, column_format='p{0.5cm}|p{2cm}|p{2cm}|p{3cm}|p{3cm}|p{2cm}|p{2cm}')\n",
    "\n",
    "    with open(latex_path, 'w') as file:\n",
    "        file.write(latex_code)\n",
    "\n",
    "    print(f\"LaTeX code saved to {latex_path}\")\n",
    "\n",
    "excel_path = 'Tables/Table1.xlsx'\n",
    "latex_path = 'Tables/table1.tex'\n",
    "excel_to_latex(excel_path, latex_path)\n"
   ]
  },
  {
   "cell_type": "code",
   "execution_count": 94,
   "id": "ad143f65-2ff1-451e-b6d6-c97f35da885f",
   "metadata": {},
   "outputs": [
    {
     "name": "stdout",
     "output_type": "stream",
     "text": [
      "LaTeX code saved to Tables/table2.tex\n"
     ]
    }
   ],
   "source": [
    "def excel_to_latex(excel_path, latex_path):\n",
    "    df = pd.read_excel(excel_path)\n",
    "\n",
    "    latex_code = df.to_latex(multicolumn=True, header=True, index=False, column_format='p{0.5cm}|p{3cm}|p{3cm}|p{3cm}|p{2cm}|p{2cm}')\n",
    "\n",
    "    with open(latex_path, 'w') as file:\n",
    "        file.write(latex_code)\n",
    "\n",
    "    print(f\"LaTeX code saved to {latex_path}\")\n",
    "\n",
    "excel_path = 'Tables/Table2.xlsx'\n",
    "latex_path = 'Tables/table2.tex'\n",
    "excel_to_latex(excel_path, latex_path)\n"
   ]
  },
  {
   "cell_type": "code",
   "execution_count": 95,
   "id": "c931edd9-edfd-4b5a-8807-b86d23122360",
   "metadata": {},
   "outputs": [
    {
     "name": "stdout",
     "output_type": "stream",
     "text": [
      "LaTeX code saved to Tables/table3.tex\n"
     ]
    }
   ],
   "source": [
    "import pandas as pd\n",
    "\n",
    "def excel_to_latex(excel_path, latex_path):\n",
    "    df = pd.read_excel(excel_path)\n",
    "\n",
    "    latex_code = df.to_latex(multicolumn=True, header=True, index=False, column_format='p{0.5cm}|p{3cm}|p{3cm}|p{3cm}|p{2cm}|p{2cm}')\n",
    "\n",
    "    with open(latex_path, 'w') as file:\n",
    "        file.write(latex_code)\n",
    "\n",
    "    print(f\"LaTeX code saved to {latex_path}\")\n",
    "\n",
    "excel_path = 'Tables/Table3.xlsx'\n",
    "latex_path = 'Tables/table3.tex'\n",
    "excel_to_latex(excel_path, latex_path)\n"
   ]
  },
  {
   "cell_type": "code",
   "execution_count": 96,
   "id": "6390f11c-a311-4b4c-b42a-b4bb5e506515",
   "metadata": {},
   "outputs": [
    {
     "name": "stdout",
     "output_type": "stream",
     "text": [
      "LaTeX code saved to Tables/table4.tex\n"
     ]
    }
   ],
   "source": [
    "import pandas as pd\n",
    "\n",
    "def excel_to_latex(excel_path, latex_path):\n",
    "    df = pd.read_excel(excel_path)\n",
    "\n",
    "    latex_code = df.to_latex(multicolumn=True, header=True, index=False, column_format='p{0.5cm}|p{3cm}|p{3cm}|p{3cm}|p{2cm}|p{2cm}')\n",
    "\n",
    "    with open(latex_path, 'w') as file:\n",
    "        file.write(latex_code)\n",
    "\n",
    "    print(f\"LaTeX code saved to {latex_path}\")\n",
    "\n",
    "excel_path = 'Tables/Table4.xlsx'\n",
    "latex_path = 'Tables/table4.tex'\n",
    "excel_to_latex(excel_path, latex_path)\n"
   ]
  },
  {
   "cell_type": "code",
   "execution_count": 133,
   "id": "17a3d937-6278-4093-bd86-36ff154215b3",
   "metadata": {},
   "outputs": [
    {
     "name": "stdout",
     "output_type": "stream",
     "text": [
      "{\"Sr. No.\":{\"0\":1,\"1\":2,\"2\":3,\"3\":4,\"4\":5,\"5\":6},\"Energy applied (J) to UUC\":{\"0\":10,\"1\":20,\"2\":50,\"3\":100,\"4\":150,\"5\":270},\"Calculated Energy (J) level\":{\"0\":9.5,\"1\":19.3,\"2\":48.2,\"3\":97.1,\"4\":146.1,\"5\":259.5},\"Measured Energy (J) level of UUC\":{\"0\":9.6,\"1\":19.4,\"2\":48.4,\"3\":97.4,\"4\":146.4,\"5\":260.3},\"Energy correction (J) (Ecalculated - Emeasured)\":{\"0\":\"(-) 0.1\",\"1\":\"(-) 0.1\",\"2\":\"(-) 0.2\",\"3\":\"(-) 0.3\",\"4\":\"(-) 0.3\",\"5\":\"(-) 0.8\"},\"Uncertainty (J)\":{\"0\":\"\\u00b1 0.1\",\"1\":\"\\u00b1 0.1\",\"2\":\"\\u00b1 0.2\",\"3\":\"\\u00b1 0.3\",\"4\":\"\\u00b1 0.5\",\"5\":\"\\u00b1 0.9\"},\"Coverage Factor (k)\":{\"0\":2,\"1\":2,\"2\":2,\"3\":2,\"4\":2,\"5\":2}}\n"
     ]
    }
   ],
   "source": [
    "def excel_to_json(excel_path):\n",
    "    df = pd.read_excel(excel_path)\n",
    "    js = df.to_json()\n",
    "    print(js)\n",
    "\n",
    "excel_path = 'Tables/Table1.xlsx'\n",
    "excel_to_json(excel_path)\n"
   ]
  },
  {
   "cell_type": "code",
   "execution_count": null,
   "id": "32e20084-7802-4f79-80c8-e6864ccebfcb",
   "metadata": {},
   "outputs": [],
   "source": []
  }
 ],
 "metadata": {
  "kernelspec": {
   "display_name": "Python 3 (ipykernel)",
   "language": "python",
   "name": "python3"
  },
  "language_info": {
   "codemirror_mode": {
    "name": "ipython",
    "version": 3
   },
   "file_extension": ".py",
   "mimetype": "text/x-python",
   "name": "python",
   "nbconvert_exporter": "python",
   "pygments_lexer": "ipython3",
   "version": "3.11.7"
  }
 },
 "nbformat": 4,
 "nbformat_minor": 5
}
