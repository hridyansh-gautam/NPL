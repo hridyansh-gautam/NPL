{
 "cells": [
  {
   "cell_type": "code",
   "execution_count": 7,
   "id": "80089ac1-eb90-4568-8352-a12897660d51",
   "metadata": {},
   "outputs": [
    {
     "name": "stdout",
     "output_type": "stream",
     "text": [
      "\n",
      "The attachme.txt file contents are:\t'This file will be attached to a PDF document'\n"
     ]
    }
   ],
   "source": [
    "# Use this script to read the text file \n",
    "# embedded in ex.pdf in the minimal example.\n",
    "#Text\n",
    "\n",
    "from pypdf import PdfReader\n",
    "\n",
    "attached = PdfReader(\"ex.pdf\").attachments  \n",
    "\n",
    "if len(attached) != 1:\n",
    "    raise RuntimeError(\"Expect a single attachment\")\n",
    "\n",
    "for file_name, content_list in attached.items():\n",
    "\n",
    "    # Elements in content_list are Python byte-literals\n",
    "    # Here we convert the bytes to a string.\n",
    "    content_as_str = content_list[0].decode('utf-8')\n",
    "    \n",
    "    print(f\"\\nThe {file_name} file contents are:\\t{content_as_str!r}\")\n"
   ]
  },
  {
   "cell_type": "code",
   "execution_count": 8,
   "id": "98828313-8ce5-446b-83cb-1fa4ebbd7f9d",
   "metadata": {},
   "outputs": [
    {
     "name": "stdout",
     "output_type": "stream",
     "text": [
      "Sheet: Test sheet\n",
      "(1, 2, 3, 4)\n",
      "(11, None, None, None)\n",
      "(111, None, None, None)\n",
      "(1111, None, None, None)\n"
     ]
    }
   ],
   "source": [
    "#Spreadsheet\n",
    "\n",
    "import io\n",
    "import openpyxl\n",
    "\n",
    "from pypdf import PdfReader\n",
    "\n",
    "attached = PdfReader(\"ex_xlsx.pdf\").attachments  \n",
    "\n",
    "if len(attached) != 1:\n",
    "    raise RuntimeError(\"Expect a single attachment\")\n",
    "\n",
    "for file_name, content_list in attached.items():\n",
    "\n",
    "    # Elements in content_list are Python byte-literals\n",
    "    # Assuming byte_string contains the byte data of the XLSX file\n",
    "    xlsx_data = io.BytesIO( content_list[0] )\n",
    "    \n",
    "    # Load the Excel workbook from the byte data\n",
    "    workbook = openpyxl.load_workbook(xlsx_data)\n",
    "    \n",
    "    # Access the sheets in the workbook\n",
    "    sheets = workbook.sheetnames\n",
    "\n",
    "    # Iterate over each sheet and extract data\n",
    "    for sheet_name in sheets:\n",
    "        sheet = workbook[sheet_name]\n",
    "        print(f\"Sheet: {sheet_name}\")\n",
    "        for row in sheet.iter_rows(values_only=True):\n",
    "            print(row)\n",
    "        \n"
   ]
  },
  {
   "cell_type": "code",
   "execution_count": 9,
   "id": "2ad333e4-a5e8-45ad-89bd-13ad92e3dc78",
   "metadata": {},
   "outputs": [
    {
     "name": "stdout",
     "output_type": "stream",
     "text": [
      "On a heuristic viewpoint concerning the production and transformation of light\n",
      "Albert Einstein\n"
     ]
    }
   ],
   "source": [
    "#XML\n",
    "from pypdf import PdfReader\n",
    "\n",
    "meta = PdfReader(\"ex_xmp.pdf\").xmp_metadata \n",
    "\n",
    "print( meta.dc_title['x-default'] )\n",
    "print( \",\".join( meta.dc_creator ) )"
   ]
  }
 ],
 "metadata": {
  "kernelspec": {
   "display_name": "Python 3 (ipykernel)",
   "language": "python",
   "name": "python3"
  },
  "language_info": {
   "codemirror_mode": {
    "name": "ipython",
    "version": 3
   },
   "file_extension": ".py",
   "mimetype": "text/x-python",
   "name": "python",
   "nbconvert_exporter": "python",
   "pygments_lexer": "ipython3",
   "version": "3.11.7"
  }
 },
 "nbformat": 4,
 "nbformat_minor": 5
}
