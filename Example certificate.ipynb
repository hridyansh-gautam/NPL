{
 "cells": [
  {
   "cell_type": "code",
   "execution_count": 2,
   "id": "32be5b1e-94f9-4147-ab84-f4ce928426df",
   "metadata": {},
   "outputs": [
    {
     "name": "stdout",
     "output_type": "stream",
     "text": [
      "Sheet: Sheet1\n",
      "('Sr. No.', 'Energy applied (J) to UUC', 'Calculated Energy (J) level', 'Measured Energy (J) level of UUC', 'Energy correction (J) (Ecalculated - Emeasured)', 'Uncertainty (J)', 'Coverage Factor (k)')\n",
      "(1, 10, 9.5, 9.6, '(-) 0.1', 0.1, 2)\n",
      "(2, 20, 19.3, 19.4, '(-) 0.1', 'I 0.1', 2)\n",
      "(3, 50, 48.2, 48.4, '(-) 0.2', 'I 0.2', 2)\n",
      "(4, 100, 97.1, 97.4, '(-) 0.3', 0.3, 2)\n",
      "(5, 150, 146.1, 146.4, '(-) 0.3', 'I 0.5', 2)\n",
      "(6, 270, 259.5, 260.3, '(-) 0.8', 0.9, 2)\n"
     ]
    }
   ],
   "source": [
    "import io\n",
    "import openpyxl\n",
    "\n",
    "from pypdf import PdfReader\n",
    "\n",
    "attached = PdfReader(\"Results_table1.pdf\").attachments  \n",
    "\n",
    "if len(attached) != 1:\n",
    "    raise RuntimeError(\"Expect a single attachment\")\n",
    "\n",
    "for file_name, content_list in attached.items():\n",
    "\n",
    "    # Elements in content_list are Python byte-literals\n",
    "    # Assuming byte_string contains the byte data of the XLSX file\n",
    "    xlsx_data = io.BytesIO( content_list[0] )\n",
    "    \n",
    "    # Load the Excel workbook from the byte data\n",
    "    workbook = openpyxl.load_workbook(xlsx_data)\n",
    "    \n",
    "    # Access the sheets in the workbook\n",
    "    sheets = workbook.sheetnames\n",
    "\n",
    "    # Iterate over each sheet and extract data\n",
    "    for sheet_name in sheets:\n",
    "        sheet = workbook[sheet_name]\n",
    "        print(f\"Sheet: {sheet_name}\")\n",
    "        for row in sheet.iter_rows(values_only=True):\n",
    "            print(row)"
   ]
  }
 ],
 "metadata": {
  "kernelspec": {
   "display_name": "Python 3 (ipykernel)",
   "language": "python",
   "name": "python3"
  },
  "language_info": {
   "codemirror_mode": {
    "name": "ipython",
    "version": 3
   },
   "file_extension": ".py",
   "mimetype": "text/x-python",
   "name": "python",
   "nbconvert_exporter": "python",
   "pygments_lexer": "ipython3",
   "version": "3.11.7"
  }
 },
 "nbformat": 4,
 "nbformat_minor": 5
}
